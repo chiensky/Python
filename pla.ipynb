{
 "cells": [
  {
   "cell_type": "code",
   "execution_count": 6,
   "metadata": {},
   "outputs": [
    {
     "name": "stdout",
     "output_type": "stream",
     "text": [
      "error=8/8\n",
      "error=8/8\n",
      "error=4/8\n",
      "error=4/8\n",
      "error=0/8\n"
     ]
    },
    {
     "data": {
      "image/png": "[encoded data removed]",
      "text/plain": [
       "<Figure size 432x288 with 1 Axes>"
      ]
     },
     "metadata": {
      "needs_background": "light"
     },
     "output_type": "display_data"
    }
   ],
   "source": [
    "import matplotlib.pyplot as plt\n",
    "import numpy as np\n",
    "\n",
    "#網路上找的dataset 可以線性分割\n",
    "\n",
    "dataset = np.array([\n",
    "((1, -0.4, 0.3), -1),\n",
    "((1, -0.3, -0.1), -1),\n",
    "((1, -0.2, 0.4), -1),\n",
    "((1, -0.1, 0.1), -1),\n",
    "((1, 0.9, -0.5), 1),\n",
    "((1, 0.7, -0.9), 1),\n",
    "((1, 0.8, 0.2), 1),\n",
    "((1, 0.4, -0.6),1)])\n",
    "\n",
    "#判斷有沒有分類錯誤，並列印錯誤率\n",
    "\n",
    "def check_error(w, dataset):\n",
    "    result = None\n",
    "    error = 0\n",
    "    for x, s in dataset:\n",
    "        x = np.array(x)\n",
    "        if int(np.sign(w.T.dot(x))) != s:\n",
    "            result =  x, s\n",
    "            error += 1\n",
    "            \n",
    "    print (\"error=%s/%s\" % (error, len(dataset)))\n",
    "    return result\n",
    "\n",
    "#PLA演算法實作\n",
    "\n",
    "def pla(dataset):\n",
    "    w = np.zeros(3) #清空w為[0,0,0]\n",
    "    while check_error(w, dataset) is not None:\n",
    "        x, s = check_error(w, dataset)\n",
    "        w += s * x\n",
    "    return w\n",
    "\n",
    "\n",
    "#執行\n",
    "\n",
    "w = pla(dataset)\n",
    "\n",
    "#畫圖\n",
    "\n",
    "ps = [v[0] for v in dataset]\n",
    "fig = plt.figure()\n",
    "ax1 = fig.add_subplot(111) #表示1x1網格，第一個子圖\n",
    "#dataset前半後半已經分割好 直接畫就是\n",
    "\n",
    "ax1.scatter([v[1] for v in ps[:4]], [v[2] for v in ps[:4]], s=10, c='b', marker=\"o\", label='O')\n",
    "ax1.scatter([v[1] for v in ps[4:]], [v[2] for v in ps[4:]], s=10, c='r', marker=\"x\", label='X')\n",
    "l = np.linspace(-2,2) #numpy.linspace(start, stop, num=50, endpoint=True, retstep=False, dtype=None)\n",
    "a,b = -w[1]/w[2], -w[0]/w[2]\n",
    "ax1.plot(l, a*l + b,color='g',linewidth='1',linestyle='-') #plot畫圖，畫(l,a*1+b)的線，\n",
    "plt.legend(loc='upper left') #legend圖例就是為了幫我們展示出每個數據對應的圖像名稱.更好的讓讀者認識到你的數據結構. 也就是O，X的標示\n",
    "plt.show()"
   ]
  },
  {
   "cell_type": "code",
   "execution_count": 12,
   "metadata": {},
   "outputs": [
    {
     "ename": "FileNotFoundError",
     "evalue": "[Errno 2] No such file or directory: 'PLA_train.txt'",
     "output_type": "error",
     "traceback": [
      "\u001b[1;31m---------------------------------------------------------------------------\u001b[0m",
      "\u001b[1;31mFileNotFoundError\u001b[0m                         Traceback (most recent call last)",
      "\u001b[1;32m<ipython-input-12-9a68c691cbe8>\u001b[0m in \u001b[0;36m<module>\u001b[1;34m()\u001b[0m\n\u001b[0;32m      2\u001b[0m \u001b[1;32mimport\u001b[0m \u001b[0mnumpy\u001b[0m \u001b[1;32mas\u001b[0m \u001b[0mnp\u001b[0m\u001b[1;33m\u001b[0m\u001b[0m\n\u001b[0;32m      3\u001b[0m \u001b[1;31m# import data\u001b[0m\u001b[1;33m\u001b[0m\u001b[1;33m\u001b[0m\u001b[0m\n\u001b[1;32m----> 4\u001b[1;33m \u001b[0mtrain_data\u001b[0m \u001b[1;33m=\u001b[0m \u001b[0mopen\u001b[0m\u001b[1;33m(\u001b[0m\u001b[1;34m'PLA_train.txt'\u001b[0m\u001b[1;33m,\u001b[0m\u001b[1;34m'r'\u001b[0m\u001b[1;33m)\u001b[0m\u001b[1;33m\u001b[0m\u001b[0m\n\u001b[0m\u001b[0;32m      5\u001b[0m \u001b[0mpla_data\u001b[0m \u001b[1;33m=\u001b[0m \u001b[0mtrain_data\u001b[0m\u001b[1;33m.\u001b[0m\u001b[0mread\u001b[0m\u001b[1;33m(\u001b[0m\u001b[1;33m)\u001b[0m\u001b[1;33m\u001b[0m\u001b[0m\n\u001b[0;32m      6\u001b[0m \u001b[0mpla_data\u001b[0m \u001b[1;33m=\u001b[0m \u001b[0mpla_data\u001b[0m\u001b[1;33m.\u001b[0m\u001b[0msplit\u001b[0m\u001b[1;33m(\u001b[0m\u001b[1;34m'\\n'\u001b[0m\u001b[1;33m)\u001b[0m\u001b[1;33m\u001b[0m\u001b[0m\n",
      "\u001b[1;31mFileNotFoundError\u001b[0m: [Errno 2] No such file or directory: 'PLA_train.txt'"
     ]
    }
   ],
   "source": [
    "import matplotlib.pyplot as plt\n",
    "import numpy as np\n",
    "# import data\n",
    "train_data = open('PLA_train.txt','r')\n",
    "pla_data = train_data.read()\n",
    "pla_data = pla_data.split('\\n')\n",
    "nums1 = 0\n",
    "# figure\n",
    "fig = plt.figure()\n",
    "ax = fig.add_subplot(111)\n",
    "ax.set_xlim(-0.5,0.5)\n",
    "ax.set_ylim(-0.5,0.5)\n",
    "# data type\n",
    "for i in pla_data:\n",
    "    pla_data[nums1] = i.split('\\t')\n",
    "    pla_data[nums1] = [float(x) for x in pla_data[nums1]]\n",
    "    pla_data[nums1] = [(pla_data[nums1][0], pla_data[nums1][1]),\n",
    "     pla_data[nums1][2]]\n",
    "    if pla_data[nums1][1] == 1:\n",
    "        ax.plot(pla_data[nums1][0][0],pla_data[nums1][0][1],'bo')\n",
    "    elif pla_data[nums1][1] == -1:\n",
    "        ax.plot(pla_data[nums1][0][0],pla_data[nums1][0][1],'rx')\n",
    "    nums1 += 1\n",
    "pla_data = np.asarray(pla_data)\n",
    "print(pla_data)\n",
    "train_data.close()\n",
    "# naive LS PLA\n",
    "def LS_pla(datas):\n",
    "    w = np.zeros(2)\n",
    "    error = 1\n",
    "    while error:\n",
    "        error = 0\n",
    "        for x,s in datas:\n",
    "            x = np.array(x)\n",
    "            y = w.T.dot(x)\n",
    "            try:\n",
    "                ax.lines.remove(lines[0])\n",
    "            except:\n",
    "                pass\n",
    "            xline = np.linspace(-0.5,0.5)\n",
    "            lines = ax.plot(xline, -xline*w[0]/w[1])\n",
    "            plt.pause(0.1)\n",
    "            if np.sign(y) != np.sign(s):\n",
    "                w += s * x\n",
    "                error = 1\n",
    "        if not error:\n",
    "            break\n",
    "    return w\n",
    "\n",
    "W = LS_pla(pla_data)\n",
    "print(W)\n",
    "plt.ion()\n",
    "plt.show()\n",
    "\n"
   ]
  },
  {
   "cell_type": "code",
   "execution_count": null,
   "metadata": {},
   "outputs": [],
   "source": []
  }
 ],
 "metadata": {
  "kernelspec": {
   "display_name": "Python 3",
   "language": "python",
   "name": "python3"
  },
  "language_info": {
   "codemirror_mode": {
    "name": "ipython",
    "version": 3
   },
   "file_extension": ".py",
   "mimetype": "text/x-python",
   "name": "python",
   "nbconvert_exporter": "python",
   "pygments_lexer": "ipython3",
   "version": "3.7.0"
  }
 },
 "nbformat": 4,
 "nbformat_minor": 2
}
